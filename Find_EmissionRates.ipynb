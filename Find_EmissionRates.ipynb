{
 "cells": [
  {
   "cell_type": "markdown",
   "metadata": {},
   "source": [
    "Developed by Kaden E. Plewe\n",
    "Start Date: 08/06/2017\n",
    "\n",
    "This script/function reads the eGRID Database file and produces emission rates coresponding to US balancing authorities for each fuel.\n",
    "\n",
    "In order for this to work properly, a valid eGRID database file must be present in the working directory. If there are multiple eGRID files then the most recent one will be selected and used for the emission rate calculations."
   ]
  },
  {
   "cell_type": "markdown",
   "metadata": {},
   "source": [
    "Import Libraries"
   ]
  },
  {
   "cell_type": "code",
   "execution_count": null,
   "metadata": {},
   "outputs": [],
   "source": [
    "import pandas as pd\n",
    "import numpy as np\n",
    "import math\n",
    "import glob\n",
    "import re"
   ]
  },
  {
   "cell_type": "markdown",
   "metadata": {},
   "source": [
    "Define the class for storing emission factors"
   ]
  },
  {
   "cell_type": "code",
   "execution_count": null,
   "metadata": {},
   "outputs": [],
   "source": [
    "class EF:\n",
    "    def __init__(self):\n",
    "        self.COAL = {'CO2': 0, 'NOx': 0, 'SO2': 0}\n",
    "        self.GAS = {'CO2': 0, 'NOx': 0, 'SO2': 0}\n",
    "        self.BIOMASS = {'CO2': 0, 'NOx': 0, 'SO2': 0}\n",
    "\n",
    "    def add_COAL(self, CO2, NOx, SO2):\n",
    "        self.COAL['CO2'] = CO2\n",
    "        self.COAL['NOx'] = NOx\n",
    "        self.COAL['SO2'] = SO2\n",
    "\n",
    "    def add_GAS(self, CO2, NOx, SO2):\n",
    "        self.GAS['CO2'] = CO2\n",
    "        self.GAS['NOx'] = NOx\n",
    "        self.GAS['SO2'] = SO2\n",
    "\n",
    "    def add_BIOMASS(self, CO2, NOx, SO2):\n",
    "        self.BIOMASS['CO2'] = CO2\n",
    "        self.BIOMASS['NOx'] = NOx\n",
    "        self.BIOMASS['SO2'] = SO2"
   ]
  },
  {
   "cell_type": "markdown",
   "metadata": {},
   "source": [
    "Function for computing emission rates"
   ]
  },
  {
   "cell_type": "code",
   "execution_count": null,
   "metadata": {},
   "outputs": [],
   "source": [
    "def import_emission_factors():\n",
    "    # import excel data file\n",
    "\n",
    "    # regular expression for finding sheetname\n",
    "    eGRID_yr_re = re.compile('(?<=20)[0-9]*')\n",
    "\n",
    "    # query all eGRID filenames in current folder\n",
    "    filename = glob.glob('[Ee][Gg][Rr][Ii][Dd]*')\n",
    "\n",
    "    # create an array of all years for the eGRID files that were found\n",
    "    eGRID_yr = eGRID_yr_re.findall(str(filename))\n",
    "    max_yr = np.argmax([int(i) for i in eGRID_yr])\n",
    "\n",
    "    # make sheet name for most recent filename\n",
    "    sn = 'PLNT' + eGRID_yr[max_yr]\n",
    "\n",
    "    # query data for most recent eGRID data set in folder\n",
    "    PLNT = pd.read_excel(filename[max_yr], sheet_name=sn, skiprows=1)\n",
    "    raw_len = len(PLNT['BACODE'])\n",
    "\n",
    "\n",
    "    # Create array of ba codes to be used in parsing data\n",
    "    BA_Data = {}\n",
    "    for i in range(0, raw_len):\n",
    "        try: x = BA_Data[str(PLNT['BACODE'][i])]\n",
    "        except:\n",
    "            BA_Data[PLNT['BACODE'][i]] = EF()\n",
    "\n",
    "    # Parse through data to fill BA_Data\n",
    "    for key, val in list(BA_Data.items()):\n",
    "        COAL_CO2_Num = 0\n",
    "        COAL_CO2_Den = 0\n",
    "        COAL_NOx_Num = 0\n",
    "        COAL_NOx_Den = 0\n",
    "        COAL_SO2_Num = 0\n",
    "        COAL_SO2_Den = 0\n",
    "        GAS_CO2_Num = 0\n",
    "        GAS_CO2_Den = 0\n",
    "        GAS_NOx_Num = 0\n",
    "        GAS_NOx_Den = 0\n",
    "        GAS_SO2_Num = 0\n",
    "        GAS_SO2_Den = 0\n",
    "        BIOMASS_CO2_Num = 0\n",
    "        BIOMASS_CO2_Den = 0\n",
    "        BIOMASS_NOx_Num = 0\n",
    "        BIOMASS_NOx_Den = 0\n",
    "        BIOMASS_SO2_Num = 0\n",
    "        BIOMASS_SO2_Den = 0\n",
    "\n",
    "        # calculate coal emission factors for each balancing authority\n",
    "        for i in range(0, raw_len):\n",
    "            if PLNT['BACODE'][i] == key and PLNT['PLFUELCT'][i] == 'COAL':\n",
    "                if np.isnan(PLNT['PLNGENAN'][i]) == 0:\n",
    "                    COAL_CO2_Den += PLNT['PLNGENAN'][i]\n",
    "                    COAL_NOx_Den += PLNT['PLNGENAN'][i]\n",
    "                    COAL_SO2_Den += PLNT['PLNGENAN'][i]\n",
    "\n",
    "                    if np.isnan(PLNT['PLCO2RTA'][i]) == 0: COAL_CO2_Num += PLNT['PLCO2RTA'][i]*PLNT['PLNGENAN'][i]\n",
    "                    if np.isnan(PLNT['PLNOXRTA'][i]) == 0: COAL_NOx_Num += PLNT['PLNOXRTA'][i]*PLNT['PLNGENAN'][i]\n",
    "                    if np.isnan(PLNT['PLSO2RTA'][i]) == 0: COAL_SO2_Num += PLNT['PLSO2RTA'][i]*PLNT['PLNGENAN'][i]\n",
    "\n",
    "        # calculate gas emission factors for each balancing authority\n",
    "        for i in range(0, raw_len):\n",
    "            if PLNT['BACODE'][i] == key and PLNT['PLFUELCT'][i] == 'GAS':\n",
    "                if np.isnan(PLNT['PLNGENAN'][i]) == 0:\n",
    "                    GAS_CO2_Den += PLNT['PLNGENAN'][i]\n",
    "                    GAS_NOx_Den += PLNT['PLNGENAN'][i]\n",
    "                    GAS_SO2_Den += PLNT['PLNGENAN'][i]\n",
    "\n",
    "                    if np.isnan(PLNT['PLCO2RTA'][i]) == 0: GAS_CO2_Num += PLNT['PLCO2RTA'][i]*PLNT['PLNGENAN'][i]\n",
    "                    if np.isnan(PLNT['PLNOXRTA'][i]) == 0: GAS_NOx_Num += PLNT['PLNOXRTA'][i]*PLNT['PLNGENAN'][i]\n",
    "                    if np.isnan(PLNT['PLSO2RTA'][i]) == 0: GAS_SO2_Num += PLNT['PLSO2RTA'][i]*PLNT['PLNGENAN'][i]\n",
    "\n",
    "        # calculate biomass emission factors for each balancing authority\n",
    "        for i in range(0, raw_len):\n",
    "            if PLNT['BACODE'][i] == key and PLNT['PLFUELCT'][i] == 'BIOMASS':\n",
    "                if np.isnan(PLNT['PLNGENAN'][i]) == 0:\n",
    "                    BIOMASS_CO2_Den += PLNT['PLNGENAN'][i]\n",
    "                    BIOMASS_NOx_Den += PLNT['PLNGENAN'][i]\n",
    "                    BIOMASS_SO2_Den += PLNT['PLNGENAN'][i]\n",
    "\n",
    "                    if np.isnan(PLNT['PLCO2RTA'][i]) == 0: BIOMASS_CO2_Num += PLNT['PLCO2RTA'][i]*PLNT['PLNGENAN'][i]\n",
    "                    if np.isnan(PLNT['PLNOXRTA'][i]) == 0: BIOMASS_NOx_Num += PLNT['PLNOXRTA'][i]*PLNT['PLNGENAN'][i]\n",
    "                    if np.isnan(PLNT['PLSO2RTA'][i]) == 0: BIOMASS_SO2_Num += PLNT['PLSO2RTA'][i]*PLNT['PLNGENAN'][i]\n",
    "\n",
    "        # import emission factors\n",
    "        try:\n",
    "            BA_Data[key].add_COAL(COAL_CO2_Num/COAL_CO2_Den, COAL_NOx_Num/COAL_NOx_Den, COAL_SO2_Num/COAL_SO2_Den)\n",
    "            BA_Data[key].add_GAS(GAS_CO2_Num / GAS_CO2_Den, GAS_NOx_Num / GAS_NOx_Den, GAS_SO2_Num / GAS_SO2_Den)\n",
    "            BA_Data[key].add_BIOMASS(BIOMASS_CO2_Num / BIOMASS_CO2_Den, BIOMASS_NOx_Num / BIOMASS_NOx_Den,\n",
    "                                     BIOMASS_SO2_Num / BIOMASS_SO2_Den)\n",
    "        except:\n",
    "            pass\n",
    "\n",
    "    return BA_Data"
   ]
  }
 ],
 "metadata": {
  "kernelspec": {
   "display_name": "Python 3",
   "language": "python",
   "name": "python3"
  },
  "language_info": {
   "codemirror_mode": {
    "name": "ipython",
    "version": 3
   },
   "file_extension": ".py",
   "mimetype": "text/x-python",
   "name": "python",
   "nbconvert_exporter": "python",
   "pygments_lexer": "ipython3",
   "version": "3.6.4"
  }
 },
 "nbformat": 4,
 "nbformat_minor": 2
}
